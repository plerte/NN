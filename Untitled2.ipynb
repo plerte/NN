{
  "nbformat": 4,
  "nbformat_minor": 0,
  "metadata": {
    "colab": {
      "name": "Untitled2.ipynb",
      "provenance": [],
      "authorship_tag": "ABX9TyMdtwD1r9bUZ2Em10qYe7V7",
      "include_colab_link": true
    },
    "kernelspec": {
      "name": "python3",
      "display_name": "Python 3"
    }
  },
  "cells": [
    {
      "cell_type": "markdown",
      "metadata": {
        "id": "view-in-github",
        "colab_type": "text"
      },
      "source": [
        "<a href=\"https://colab.research.google.com/github/plerte/NN/blob/master/Untitled2.ipynb\" target=\"_parent\"><img src=\"https://colab.research.google.com/assets/colab-badge.svg\" alt=\"Open In Colab\"/></a>"
      ]
    },
    {
      "cell_type": "code",
      "metadata": {
        "id": "TJ56UWdWZMN8",
        "colab_type": "code",
        "colab": {
          "base_uri": "https://localhost:8080/",
          "height": 1000
        },
        "outputId": "e6fb3d3a-f1d5-4866-a854-fa83b941372e"
      },
      "source": [
        "import tensorflow as tf\n",
        "mnist = tf.keras.datasets.mnist\n",
        "import matplotlib.pyplot as plt\n",
        "(x_train, y_train),(x_test, y_test) = mnist.load_data()\n",
        "x_train, x_test = x_train / 255.0, x_test / 255.0\n",
        "\n",
        "x_train.shape\n",
        "\n",
        "plt.title(y_train[10])\n",
        "plt.imshow(x_train[10], cmap=plt.get_cmap('gray_r'))\n",
        "plt.show()\n",
        "\n",
        "def display_digit(num):\n",
        "    label = y_train[num]\n",
        "    image = x_train[num]\n",
        "    plt.title('Example: {}  Label: {}'.format(num, label))\n",
        "    plt.imshow(image, cmap=plt.get_cmap('gray_r'))\n",
        "    plt.show()\n",
        "\n",
        "display_digit(2908\n",
        "\n",
        ")\n",
        "\n",
        "model = tf.keras.models.Sequential([\n",
        "  tf.keras.layers.Flatten(input_shape=(28, 28)),\n",
        "  tf.keras.layers.Dense(100, activation=tf.nn.relu),\n",
        "  tf.keras.layers.Dropout(0.0),\n",
        "  tf.keras.layers.Dense(10, activation=tf.nn.softmax)\n",
        "])\n",
        "\n",
        "model.compile(optimizer=tf.keras.optimizers.Adam(learning_rate=0.001),\n",
        "              loss=tf.keras.losses.sparse_categorical_crossentropy,\n",
        "              metrics=['accuracy'])\n",
        "\n",
        "model.fit(x_train, y_train, epochs=3)\n",
        "\n",
        "loss, acc = model.evaluate(x_test, y_test)\n",
        "\n",
        "\n",
        "print(\"Loss = {}, accuracy = {}\".format(loss, acc))\n",
        "\n",
        "loss, acc = model.evaluate(x_train, y_train)\n",
        "print(\"Loss = {}, accuracy = {}\".format(loss, acc))\n",
        "\n",
        "predictions = model.predict(x_test[0:1,:,:])\n",
        "print(\"predictions: \",predictions)\n",
        "print(y_test[0])\n",
        "print(x_train.shape)\n",
        "print(y_test)"
      ],
      "execution_count": 6,
      "outputs": [
        {
          "output_type": "display_data",
          "data": {
            "image/png": "[encoded data removed]",
            "text/plain": [
              "<Figure size 432x288 with 1 Axes>"
            ]
          },
          "metadata": {
            "tags": [],
            "needs_background": "light"
          }
        },
        {
          "output_type": "display_data",
          "data": {
            "image/png": "[encoded data removed]",
            "text/plain": [
              "<Figure size 432x288 with 1 Axes>"
            ]
          },
          "metadata": {
            "tags": [],
            "needs_background": "light"
          }
        },
        {
          "output_type": "stream",
          "text": [
            "Epoch 1/3\n",
            "1875/1875 [==============================] - 3s 2ms/step - loss: 0.2698 - accuracy: 0.9230\n",
            "Epoch 2/3\n",
            "1875/1875 [==============================] - 3s 2ms/step - loss: 0.1253 - accuracy: 0.9631\n",
            "Epoch 3/3\n",
            "1875/1875 [==============================] - 3s 2ms/step - loss: 0.0893 - accuracy: 0.9731\n",
            "313/313 [==============================] - 0s 1ms/step - loss: 0.0985 - accuracy: 0.9715\n",
            "Loss = 0.09850682318210602, accuracy = 0.9714999794960022\n",
            "1875/1875 [==============================] - 3s 1ms/step - loss: 0.0672 - accuracy: 0.9814\n",
            "Loss = 0.0671996995806694, accuracy = 0.9814333319664001\n",
            "WARNING:tensorflow:5 out of the last 5 calls to <function Model.make_predict_function.<locals>.predict_function at 0x7faa521548c8> triggered tf.function retracing. Tracing is expensive and the excessive number of tracings could be due to (1) creating @tf.function repeatedly in a loop, (2) passing tensors with different shapes, (3) passing Python objects instead of tensors. For (1), please define your @tf.function outside of the loop. For (2), @tf.function has experimental_relax_shapes=True option that relaxes argument shapes that can avoid unnecessary retracing. For (3), please refer to https://www.tensorflow.org/tutorials/customization/performance#python_or_tensor_args and https://www.tensorflow.org/api_docs/python/tf/function for  more details.\n",
            "predictions:  [[1.6959057e-06 3.7063062e-09 8.1364515e-06 1.4674701e-03 7.0458199e-09\n",
            "  2.8189277e-06 3.1835840e-11 9.9850839e-01 7.3347960e-06 4.0976370e-06]]\n",
            "7\n",
            "(60000, 28, 28)\n",
            "[7 2 1 ... 4 5 6]\n",
            "Model: \"sequential_4\"\n",
            "_________________________________________________________________\n",
            "Layer (type)                 Output Shape              Param #   \n",
            "=================================================================\n",
            "flatten_4 (Flatten)          (None, 784)               0         \n",
            "_________________________________________________________________\n",
            "dense_8 (Dense)              (None, 100)               78500     \n",
            "_________________________________________________________________\n",
            "dropout_4 (Dropout)          (None, 100)               0         \n",
            "_________________________________________________________________\n",
            "dense_9 (Dense)              (None, 10)                1010      \n",
            "=================================================================\n",
            "Total params: 79,510\n",
            "Trainable params: 79,510\n",
            "Non-trainable params: 0\n",
            "_________________________________________________________________\n",
            "params:  None\n"
          ],
          "name": "stdout"
        }
      ]
    }
  ]
}