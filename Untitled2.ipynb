{
  "nbformat": 4,
  "nbformat_minor": 0,
  "metadata": {
    "colab": {
      "name": "Untitled2.ipynb",
      "provenance": [],
      "authorship_tag": "ABX9TyOXtZW7P7slBmFm8gXZpJRn",
      "include_colab_link": true
    },
    "kernelspec": {
      "name": "python3",
      "display_name": "Python 3"
    }
  },
  "cells": [
    {
      "cell_type": "markdown",
      "metadata": {
        "id": "view-in-github",
        "colab_type": "text"
      },
      "source": [
        "<a href=\"https://colab.research.google.com/github/plerte/NN/blob/tast2_1/Untitled2.ipynb\" target=\"_parent\"><img src=\"https://colab.research.google.com/assets/colab-badge.svg\" alt=\"Open In Colab\"/></a>"
      ]
    },
    {
      "cell_type": "code",
      "metadata": {
        "id": "TJ56UWdWZMN8",
        "colab_type": "code",
        "colab": {}
      },
      "source": [
        "import tensorflow as tf\n",
        "mnist = tf.keras.datasets.mnist\n",
        "import matplotlib.pyplot as plt\n",
        "import numpy as np\n",
        "\n",
        "def feature_normalize(train_X):\n",
        "  global mean, std\n",
        "  mean = np.mean(train_X, axis=0)\n",
        "  std = np.std(train_X, axis=0)\n",
        "  return np.nan_to_num((train_X - mean) / std)\n",
        "\n",
        "(x_train, y_train),(x_test, y_test) = mnist.load_data()\n",
        "x_train, x_test = feature_normalize(x_train), feature_normalize(x_test)\n",
        "\n",
        "x_train.shape\n",
        "\n",
        "plt.title(y_train[10])\n",
        "plt.imshow(x_train[10], cmap=plt.get_cmap('gray_r'))\n",
        "plt.show()\n",
        "\n",
        "def display_digit(num):\n",
        "    label = y_train[num]\n",
        "    image = x_train[num]\n",
        "    plt.title('Example: {}  Label: {}'.format(num, label))\n",
        "    plt.imshow(image, cmap=plt.get_cmap('gray_r'))\n",
        "    plt.show()\n",
        "\n",
        "display_digit(2908\n",
        "\n",
        ")\n",
        "\n",
        "model = tf.keras.models.Sequential([\n",
        "  tf.keras.layers.Flatten(input_shape=(28, 28)),\n",
        "  tf.keras.layers.Dense(100, activation=tf.nn.relu),\n",
        "  tf.keras.layers.Dropout(0.0),\n",
        "  tf.keras.layers.Dense(10, activation=tf.nn.softmax)\n",
        "])\n",
        "\n",
        "model.compile(optimizer=tf.keras.optimizers.Adam(learning_rate=0.001),\n",
        "              loss=tf.keras.losses.sparse_categorical_crossentropy,\n",
        "              metrics=['accuracy'])\n",
        "\n",
        "\n",
        "\n"
      ],
      "execution_count": null,
      "outputs": []
    },
    {
      "cell_type": "code",
      "metadata": {
        "id": "T6rQ9yQtOWL6",
        "colab_type": "code",
        "colab": {}
      },
      "source": [
        "model.fit(x_train, y_train, epochs=5)"
      ],
      "execution_count": null,
      "outputs": []
    },
    {
      "cell_type": "code",
      "metadata": {
        "id": "73swRRSDOhx8",
        "colab_type": "code",
        "colab": {}
      },
      "source": [
        "loss, acc = model.evaluate(x_test, y_test)\n",
        "print(\"Loss = {}, accuracy = {}\".format(loss, acc))\n",
        "loss, acc = model.evaluate(x_train, y_train)\n",
        "print(\"Loss = {}, accuracy = {}\".format(loss, acc))\n",
        "predictions = model.predict(x_test[0:1,:,:])\n",
        "print(predictions)\n",
        "print(y_test[0])\n",
        "\n",
        "model.evaluate(x_test, y_test)"
      ],
      "execution_count": null,
      "outputs": []
    }
  ]
}